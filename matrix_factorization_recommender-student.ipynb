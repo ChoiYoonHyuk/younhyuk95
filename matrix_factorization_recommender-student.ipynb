{
 "cells": [
  {
   "cell_type": "markdown",
   "metadata": {},
   "source": [
    "# Movie Recommender System with SVD \n",
    "## 1. Loading the Data"
   ]
  },
  {
   "cell_type": "code",
   "execution_count": null,
   "metadata": {},
   "outputs": [],
   "source": [
    "import pandas as pd\n",
    "import numpy as np\n",
    "\n",
    "ratings_list = [i.strip().split(\"::\") for i in open('./ml-1m/ratings.dat', 'r').readlines()]\n",
    "users_list = [i.strip().split(\"::\") for i in open('./ml-1m/users.dat', 'r').readlines()]\n",
    "movies_list = [i.strip().split(\"::\") for i in open('./ml-1m/movies.dat', 'r',encoding = \"ISO-8859-1\").readlines()]\n",
    "\n",
    "print(ratings_list[0])\n",
    "print(users_list[0])\n",
    "print(movies_list[0])"
   ]
  },
  {
   "cell_type": "markdown",
   "metadata": {},
   "source": [
    "## - Data type conversion to numpy array and pandas DataFrame"
   ]
  },
  {
   "cell_type": "code",
   "execution_count": null,
   "metadata": {},
   "outputs": [],
   "source": [
    "ratings = np.array(ratings_list)\n",
    "users = np.array(users_list)\n",
    "movies = np.array(movies_list)"
   ]
  },
  {
   "cell_type": "code",
   "execution_count": null,
   "metadata": {
    "scrolled": false
   },
   "outputs": [],
   "source": [
    "ratings_df = pd.DataFrame(ratings_list, columns = ['UserID', 'MovieID', 'Rating', 'Timestamp'], dtype = int)\n",
    "movies_df = pd.DataFrame(movies_list, columns = ['MovieID', 'Title', 'Genres'])\n",
    "\n",
    "#convert string data type to int64 \n",
    "movies_df['MovieID'] = movies_df['MovieID'].apply(pd.to_numeric)"
   ]
  },
  {
   "cell_type": "markdown",
   "metadata": {},
   "source": [
    "### * check dataframe"
   ]
  },
  {
   "cell_type": "code",
   "execution_count": null,
   "metadata": {},
   "outputs": [],
   "source": [
    "movies_df.head()"
   ]
  },
  {
   "cell_type": "code",
   "execution_count": null,
   "metadata": {
    "scrolled": true
   },
   "outputs": [],
   "source": [
    "ratings_df.head()"
   ]
  },
  {
   "cell_type": "markdown",
   "metadata": {},
   "source": [
    "## 2. Make pivot table\n",
    "* 피봇 테이블(pivot table) : 데이터 열 중에서 두 개를 키(key)로 사용하여 데이터를 선택하는 방법을 말한다.\n",
    "* 첫번째 인수로는 행 인덱스로 사용할 열 이름, 두번째 인수로는 열 인덱스로 사용할 열 이름, 그리고 마지막으로 데이터로 사용할 열 이름을 넣는다.\n",
    "* fillna: Fill NA/NaN values using the specified method"
   ]
  },
  {
   "cell_type": "code",
   "execution_count": null,
   "metadata": {
    "scrolled": false
   },
   "outputs": [],
   "source": [
    "\"\"\"\n",
    "=====================\n",
    "Fill in the cell !\n",
    "=====================\n",
    "\n",
    "* Useful functions:\n",
    "    - DataFrame.pivot(index, columns, values)\n",
    "    - DataFrame.fillna(value)\n",
    "    \n",
    "* Step by step\n",
    "    1. Make pivot table \"R_df\" with rating DataFrame\n",
    "    2. fill the NaN values\n",
    "\"\"\"\n"
   ]
  },
  {
   "cell_type": "markdown",
   "metadata": {},
   "source": [
    "## 3. Normalize by each users mean convert it from a dataframe to a numpy array"
   ]
  },
  {
   "cell_type": "code",
   "execution_count": null,
   "metadata": {},
   "outputs": [],
   "source": [
    "# DataFrame type to matrix\n",
    "R = R_df.as_matrix()\n",
    "\n",
    "\"\"\"\n",
    "=====================\n",
    "Fill in the cell !\n",
    "=====================\n",
    "\n",
    "* Useful functions:\n",
    "    - np.mean(a, axis), reshape(-1,1) \n",
    "    \n",
    "* Step by step\n",
    "    1. make \"user_ratings_mean\" variable \n",
    "        : compute rating mean of each user\n",
    "        (caution! matrix shape : [number of users, 1] , matrix dim : 2 dim)\n",
    "    2. make \"R_normalized\" variable\n",
    "        : subtract that matrix from \"R\"\n",
    "        \n",
    "\"\"\"\n"
   ]
  },
  {
   "cell_type": "markdown",
   "metadata": {},
   "source": [
    "## 4. Singular Value Decomposition"
   ]
  },
  {
   "cell_type": "code",
   "execution_count": null,
   "metadata": {},
   "outputs": [],
   "source": [
    "from scipy.sparse.linalg import svds\n",
    "\"\"\"\n",
    "=====================\n",
    "Fill in the cell !\n",
    "=====================\n",
    "\n",
    "* Useful functions:\n",
    "    - svds(A, k) : return U, sigma, Vt\n",
    "    - np.diag(v) : Extract a diagonal matrix\n",
    "    \n",
    "* Step by step\n",
    "    1. make \"U, sigma, Vt\" variables for svds funtion's output (k = 50)\n",
    "    2. Diagonalize the sigma value \n",
    "\n",
    "\"\"\"\n"
   ]
  },
  {
   "cell_type": "markdown",
   "metadata": {},
   "source": [
    "## 5. Making Predictions \n",
    "\n",
    "* multiply $U$, $\\Sigma$, and $V^{T}$ back to get the rank $k=50$ approximation of $R$.\n",
    "\n",
    "* add the user means back to get the actual star ratings prediction."
   ]
  },
  {
   "cell_type": "code",
   "execution_count": null,
   "metadata": {},
   "outputs": [],
   "source": [
    "\"\"\"\n",
    "=====================\n",
    "Fill in the cell !\n",
    "=====================\n",
    "\n",
    "* Useful functions:\n",
    "    - np.dot\n",
    "* Step by step\n",
    "    1. make \"all_user_predicted_ratings\" variable for predictions\n",
    "        1) multiply each variables \n",
    "        2) add user ratings mean again\n",
    "\"\"\"\n"
   ]
  },
  {
   "cell_type": "markdown",
   "metadata": {},
   "source": [
    "## 6. Making Movie Recommendations"
   ]
  },
  {
   "cell_type": "code",
   "execution_count": null,
   "metadata": {
    "scrolled": false
   },
   "outputs": [],
   "source": [
    "preds_df = pd.DataFrame(all_user_predicted_ratings, columns = R_df.columns)\n",
    "preds_df.head()"
   ]
  },
  {
   "cell_type": "code",
   "execution_count": null,
   "metadata": {
    "scrolled": false
   },
   "outputs": [],
   "source": [
    "def recommend_movies(predictions_df, userID, movies_df, original_ratings_df, num_recommendations=5):\n",
    "    \n",
    "    # Get and sort the user's predictions\n",
    "    user_row_number = userID - 1 # UserID starts at 1, not 0\n",
    "    sorted_user_predictions = predictions_df.iloc[user_row_number].sort_values(ascending=False) # UserID starts at 1\n",
    "    \n",
    "    # Get the user's data and merge in the movie information.\n",
    "    user_data = original_ratings_df[original_ratings_df.UserID == (userID)]\n",
    "    #print(user_data.head())\n",
    "    \n",
    "    # left: use only keys from left frame, similar to a SQL left outer join; preserve key order\n",
    "    user_full = (user_data.merge(movies_df, how = 'left', left_on = 'MovieID', right_on = 'MovieID').\n",
    "                     sort_values(['Rating'], ascending=False)\n",
    "                 )\n",
    "    #print(user_full.head())\n",
    "    \n",
    "    print ('User {0} has already rated {1} movies.'.format(userID, user_full.shape[0]))\n",
    "    print ('Recommending highest {0} predicted ratings movies not already rated.'.format(num_recommendations))\n",
    "    \n",
    "    # Recommend the highest predicted rating movies that the user hasn't seen yet.\n",
    "    # remove already rated movie row\n",
    "    recommendations = movies_df[~movies_df[\"MovieID\"].isin(user_full['MovieID'])]\n",
    "    \n",
    "    # merge with prediction and movie information\n",
    "    recommendations = recommendations.merge(pd.DataFrame(sorted_user_predictions).reset_index(), how = 'left',\n",
    "               left_on = 'MovieID',\n",
    "               right_on = 'MovieID')\n",
    "    \n",
    "    #rename userID column to prediction\n",
    "    recommendations = recommendations.rename(columns = {user_row_number: 'Predictions'})\n",
    "    \n",
    "    #sorting prediction value to descending order and \n",
    "    recommendations = recommendations.sort_values(['Predictions'], ascending = False)\n",
    "    recommendations = recommendations.iloc[:num_recommendations, :-1]\n",
    "\n",
    "    return user_full, recommendations\n"
   ]
  },
  {
   "cell_type": "code",
   "execution_count": null,
   "metadata": {},
   "outputs": [],
   "source": [
    "already_rated, predictions = recommend_movies(preds_df, 837, movies_df, ratings_df, 10)"
   ]
  },
  {
   "cell_type": "code",
   "execution_count": null,
   "metadata": {
    "scrolled": true
   },
   "outputs": [],
   "source": [
    "already_rated.head(10)"
   ]
  },
  {
   "cell_type": "code",
   "execution_count": null,
   "metadata": {
    "scrolled": true
   },
   "outputs": [],
   "source": [
    "predictions"
   ]
  }
 ],
 "metadata": {
  "kernelspec": {
   "display_name": "Python 2",
   "language": "python",
   "name": "python2"
  },
  "language_info": {
   "codemirror_mode": {
    "name": "ipython",
    "version": 2
   },
   "file_extension": ".py",
   "mimetype": "text/x-python",
   "name": "python",
   "nbconvert_exporter": "python",
   "pygments_lexer": "ipython2",
   "version": "2.7.16"
  }
 },
 "nbformat": 4,
 "nbformat_minor": 1
}
