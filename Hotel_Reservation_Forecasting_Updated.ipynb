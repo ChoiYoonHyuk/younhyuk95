{
 "cells": [
  {
   "cell_type": "markdown",
   "id": "3c3e1f6e",
   "metadata": {},
   "source": [
    "# 투숙일 별 호텔 예약 건수 예측\n",
    "2015년 7월 ~ 2017년 6월, 2년간의 호텔 예약 데이터를 사용하여 2017년 7월과 8월동안 각 호텔의 투숙일별 예약 건수를 예측"
   ]
  },
  {
   "cell_type": "markdown",
   "id": "45cd2748",
   "metadata": {},
   "source": [
    "## 1. Data Loading\n",
    "Preprocessing을 위한 데이터 로딩"
   ]
  },
  {
   "cell_type": "code",
   "execution_count": null,
   "id": "6193acee",
   "metadata": {},
   "outputs": [],
   "source": [
    "import pandas as pd\n",
    "\n",
    "# Load the dataset\n",
    "data = pd.read_csv('./hotel_reservation_data_task.csv')\n"
   ]
  },
  {
   "cell_type": "markdown",
   "id": "9bf3eaf5",
   "metadata": {},
   "source": [
    "## 2. Feature analysis\n",
    "Correlation matrix를 기반으로 주어진 feature간의 상관관계를 분석"
   ]
  },
  {
   "cell_type": "code",
   "execution_count": null,
   "id": "d518cc62",
   "metadata": {},
   "outputs": [],
   "source": [
    "import seaborn as sns\n",
    "import matplotlib.pyplot as plt\n",
    "\n",
    "# Correlation matrix\n",
    "corr_mat = data.corr()\n",
    "print(corr_mat)"
   ]
  },
  {
   "cell_type": "markdown",
   "id": "f77fa3fa",
   "metadata": {},
   "source": [
    "## 3. Pre-processing\n",
    "데이터 전처리 수행 (n/a values 및 날짜 처리)"
   ]
  },
  {
   "cell_type": "code",
   "execution_count": null,
   "id": "3d6072af",
   "metadata": {},
   "outputs": [],
   "source": [
    "# Replace n/a values as 0\n",
    "data['num_children'].fillna(0, inplace=True)\n",
    "data['agent_id'].fillna(0, inplace=True)\n",
    "data['company_id'].fillna(0, inplace=True)\n",
    "data['country'].fillna(0, inplace=True)\n",
    "\n",
    "# date_arrivel = year + month + day\n",
    "data['date_arrival'] = pd.to_datetime(data['date_of_arrival_year'].astype(str) + '-' +\n",
    "                                      data['date_of_arrival_month'].astype(str) + '-' +\n",
    "                                      data['date_of_arrival_day_of_month'].astype(str))\n"
   ]
  },
  {
   "cell_type": "markdown",
   "id": "94768b9e",
   "metadata": {},
   "source": [
    "시간의 변화에 따른 예약 건수"
   ]
  },
  {
   "cell_type": "code",
   "execution_count": null,
   "id": "936b5ad7",
   "metadata": {},
   "outputs": [],
   "source": [
    "# Group data (hotel, arrival date)\n",
    "hotel_arrival = data.groupby(['hotel', 'date_arrival']).size().reset_index(name='reserve_num')\n",
    "print(hotel_arrival.head())"
   ]
  },
  {
   "cell_type": "markdown",
   "id": "f2bf2279",
   "metadata": {},
   "source": [
    "## 4. Prediction\n",
    "### Time-series 기법들이 아래와 같이 다수 존재함\n",
    "\n",
    "- **LSTM (Long Short-Term Memory)**: Recurrent neural network (RNN) 기반의 기본적인 time-series modeling 기법.\n",
    "- **LLM (Large Language Model)**: Pre-trained된 대규모 언어 모델로써, time-series data 처리에 용이하나 데이터 크기 등을 고려하여 아래 ARIMA 모델을 사용.\n",
    "- **ARIMA**: 통계 기반 모델로써, 이전 값들을 기반으로 time-series preding을 수행.\n"
   ]
  },
  {
   "cell_type": "markdown",
   "id": "e6edfb83",
   "metadata": {},
   "source": [
    "### ARIMA 모델이 해당 task에 적합한 이유\n",
    "\n",
    "1. **데이터 적합성**: : 해당 모델은 단변량 시계열 예측에 적합함.\n",
    "2. **구현 및 분석에 용이**: ARIMA는 LSTM에 비해 단순하고 구현 및 결과 해석에 용이함.\n",
    "3. **성능**: 복잡하지 않은 데이터 특성을 고려할 때 좋은 성능을 발휘할 것이라 생각함."
   ]
  },
  {
   "cell_type": "code",
   "execution_count": null,
   "id": "2d5852d5",
   "metadata": {},
   "outputs": [],
   "source": [
    "from statsmodels.tsa.arima.model import ARIMA\n",
    "\n",
    "# Save predicted results\n",
    "save_results = pd.DataFrame()\n",
    "\n",
    "# Find unique hotel lists\n",
    "hotels = hotel_arrival['hotel'].unique()\n",
    "\n",
    "# Iteration for every hotel\n",
    "for h in hotels:\n",
    "    selected_data = hotel_arrival[hotel_arrival['hotel'] == h].set_index('date_arrival')\n",
    "    \n",
    "    # Training ARIMA with p=q=d=1\n",
    "    model = ARIMA(selected_data['reserve_num'], order=(1, 1, 1))\n",
    "    model_fit = model.fit()\n",
    "    \n",
    "    # Prediction from July to August 2017\n",
    "    pred = model_fit.predict(start='2017-07-01', end='2017-08-31', typ='levels').reset_index()\n",
    "    pred.columns = ['rentaldate', 'forecast_num_reservations']\n",
    "    pred['hotel'] = h\n",
    "    save_results = pd.concat([save_results, pred])\n",
    "\n",
    "# Save the pred results\n",
    "save_results = save_results[['hotel', 'rentaldate', 'forecast_num_reservations']]\n",
    "save_results.to_csv('./forecast_result_format.csv', index=False)"
   ]
  },
  {
   "cell_type": "markdown",
   "id": "bb49faff",
   "metadata": {},
   "source": [
    "## 5. Conclusion\n",
    "ARIMA 모델을 기반으로 2017년 7월부터 8월까지 각 호텔의 예약 건수를 예측한 뒤 csv 파일에 저장함함"
   ]
  }
 ],
 "metadata": {},
 "nbformat": 4,
 "nbformat_minor": 5
}
