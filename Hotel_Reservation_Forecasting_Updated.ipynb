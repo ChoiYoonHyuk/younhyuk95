{
 "cells": [
  {
   "cell_type": "markdown",
   "id": "3c3e1f6e",
   "metadata": {},
   "source": [
    "# 투숙일 별 호텔 예약 건수 예측\n",
    "2015년 7월 ~ 2017년 6월, 2년간의 호텔 예약 데이터를 사용하여 2017년 7월과 8월동안 각 호텔의 투숙일별 예약 건수를 예측"
   ]
  },
  {
   "cell_type": "markdown",
   "id": "45cd2748",
   "metadata": {},
   "source": [
    "## 1. Data Loading\n",
    "Preprocessing을 위한 데이터 로딩 및 탐색"
   ]
  },
  {
   "cell_type": "code",
   "execution_count": null,
   "id": "6193acee",
   "metadata": {},
   "outputs": [],
   "source": [
    "import pandas as pd\n",
    "\n",
    "# Load the dataset\n",
    "data = pd.read_csv('./hotel_reservation_data_task.csv')\n",
    "\n",
    "# Data structure\n",
    "data.info()\n",
   ]
  },
  {
   "cell_type": "markdown",
   "id": "9bf3eaf5",
   "metadata": {},
   "source": [
    "## 2. Feature correlation analysis\n",
    "주어진 feature간의 상관관계를 분석"
   ]
  },
  {
   "cell_type": "code",
   "execution_count": null,
   "id": "d518cc62",
   "metadata": {},
   "outputs": [],
   "source": [
    "import seaborn as sns\n",
    "import matplotlib.pyplot as plt\n",
    "\n",
    "# Correlation matrix\n",
    "corr_mat = data.corr()\n",
    "\n",
    "print(corr_mat)\n"
   ]
  },
  {
   "cell_type": "markdown",
   "id": "94768b9e",
   "metadata": {},
   "source": [
    "## 3. Demand Trend Analysis\n",
    "A demand trend analysis was conducted to observe the general trends and seasonality in the data."
   ]
  },
  {
   "cell_type": "code",
   "execution_count": null,
   "id": "08348003",
   "metadata": {},
   "outputs": [],
   "source": [
    "# Group data by date to see trends over time\n",
    "trend_data = data_grouped.groupby('arrival_date').sum().reset_index()\n",
    "\n",
    "# Plotting the trend\n",
    "plt.figure(figsize=(14, 7))\n",
    "plt.plot(trend_data['arrival_date'], trend_data['num_reservations'], label='Total Reservations')\n",
    "plt.title('Hotel Reservations Trend Over Time')\n",
    "plt.xlabel('Date')\n",
    "plt.ylabel('Number of Reservations')\n",
    "plt.legend()\n",
    "plt.show()"
   ]
  },
  {
   "cell_type": "markdown",
   "id": "f77fa3fa",
   "metadata": {},
   "source": [
    "## 4. Feature Engineering\n",
    "Feature engineering is a crucial step where new features are created from existing data to improve the model’s predictive power."
   ]
  },
  {
   "cell_type": "code",
   "execution_count": null,
   "id": "3d6072af",
   "metadata": {},
   "outputs": [],
   "source": [
    "# Handle missing values\n",
    "data['num_children'].fillna(0, inplace=True)\n",
    "data['agent_id'].fillna('Unknown', inplace=True)\n",
    "data['company_id'].fillna('Unknown', inplace=True)\n",
    "data['country'].fillna('Unknown', inplace=True)\n",
    "\n",
    "# Create 'arrival_date' feature\n",
    "data['arrival_date'] = pd.to_datetime(data['date_of_arrival_year'].astype(str) + '-' +\n",
    "                                      data['date_of_arrival_month'].astype(str) + '-' +\n",
    "                                      data['date_of_arrival_day_of_month'].astype(str))\n",
    "\n",
    "data.info()"
   ]
  },
  {
   "cell_type": "markdown",
   "id": "f2bf2279",
   "metadata": {},
   "source": [
    "## 5. Modeling\n",
    "### Model Selection\n",
    "Several models were considered for this forecasting task, including:\n",
    "\n",
    "- **ARIMA**: A classic statistical method for time series forecasting that models the data using its own past values.\n",
    "- **Prophet**: A model specifically designed by Facebook for forecasting time series data that can handle missing data and outliers well.\n",
    "- **LSTM (Long Short-Term Memory)**: A type of recurrent neural network (RNN) that is effective in capturing the sequential dependencies in time series data."
   ]
  },
  {
   "cell_type": "markdown",
   "id": "e6edfb83",
   "metadata": {},
   "source": [
    "### Model Chosen\n",
    "For this task, the **ARIMA** model was chosen due to the following reasons:\n",
    "\n",
    "1. **Suitability for Time Series**: ARIMA is well-suited for univariate time series forecasting, which matches the task at hand.\n",
    "2. **Simplicity and Interpretability**: ARIMA models are simpler and more interpretable compared to more complex models like LSTM, making them easier to explain and implement.\n",
    "3. **Performance**: Despite its simplicity, ARIMA often performs competitively, especially when the time series does not exhibit complex patterns."
   ]
  },
  {
   "cell_type": "code",
   "execution_count": null,
   "id": "2d5852d5",
   "metadata": {},
   "outputs": [],
   "source": [
    "from statsmodels.tsa.arima.model import ARIMA\n",
    "\n",
    "# Hotel list\n",
    "hotels = data_grouped['hotel'].unique()\n",
    "\n",
    "# Forecast results storage\n",
    "forecast_results = pd.DataFrame()\n",
    "\n",
    "# Forecast for each hotel\n",
    "for hotel in hotels:\n",
    "    hotel_data = data_grouped[data_grouped['hotel'] == hotel]\n",
    "    hotel_data = hotel_data.set_index('arrival_date')\n",
    "    \n",
    "    # ARIMA model\n",
    "    model = ARIMA(hotel_data['num_reservations'], order=(1, 1, 1))\n",
    "    model_fit = model.fit()\n",
    "    \n",
    "    # Predict for July and August 2017\n",
    "    forecast = model_fit.predict(start='2017-07-01', end='2017-08-31', typ='levels')\n",
    "    \n",
    "    # Store forecast\n",
    "    forecast_df = forecast.reset_index()\n",
    "    forecast_df.columns = ['date_of_stay', 'forecasted_num_reservations']\n",
    "    forecast_df['hotel'] = hotel\n",
    "    forecast_results = pd.concat([forecast_results, forecast_df])\n",
    "\n",
    "# Save the forecast results\n",
    "forecast_results = forecast_results[['hotel', 'date_of_stay', 'forecasted_num_reservations']]\n",
    "forecast_results.to_csv('./forecast_result_arima.csv', index=False)"
   ]
  },
  {
   "cell_type": "markdown",
   "id": "bb49faff",
   "metadata": {},
   "source": [
    "## 6. Conclusion\n",
    "The ARIMA model was used to forecast the number of hotel reservations for July and August 2017. The results have been saved to a CSV file for submission."
   ]
  }
 ],
 "metadata": {},
 "nbformat": 4,
 "nbformat_minor": 5
}
